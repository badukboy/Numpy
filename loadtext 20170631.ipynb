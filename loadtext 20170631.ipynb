{
 "cells": [
  {
   "cell_type": "code",
   "execution_count": 1,
   "metadata": {
    "collapsed": false
   },
   "outputs": [
    {
     "name": "stdout",
     "output_type": "stream",
     "text": [
      "Writing text.txt\n"
     ]
    }
   ],
   "source": [
    "%%writefile text.txt\n",
    "Value1  Value2  Value3\n",
    "0.2536  0.1008  0.3857\n",
    "0.4839  0.4536  0.3561\n",
    "0.1292  0.6875  0.5929\n",
    "0.1781  0.3049  0.8928\n",
    "0.6253  0.3486  0.8791"
   ]
  },
  {
   "cell_type": "code",
   "execution_count": 6,
   "metadata": {
    "collapsed": false
   },
   "outputs": [
    {
     "name": "stdout",
     "output_type": "stream",
     "text": [
      "[ 0.2536  0.4839  0.1292  0.1781  0.6253]\n",
      "[ 0.1008  0.4536  0.6875  0.3049  0.3486]\n",
      "[ 0.3857  0.3561  0.5929  0.8928  0.8791]\n"
     ]
    }
   ],
   "source": [
    "import numpy as np\n",
    "x, y, z = np.loadtxt('text.txt',\n",
    "                    skiprows=1,\n",
    "                    unpack=True)\n",
    "\n",
    "print(x)\n",
    "print(y)\n",
    "print(z)"
   ]
  },
  {
   "cell_type": "code",
   "execution_count": null,
   "metadata": {
    "collapsed": true
   },
   "outputs": [],
   "source": []
  }
 ],
 "metadata": {
  "anaconda-cloud": {},
  "kernelspec": {
   "display_name": "Python [conda root]",
   "language": "python",
   "name": "conda-root-py"
  },
  "language_info": {
   "codemirror_mode": {
    "name": "ipython",
    "version": 3
   },
   "file_extension": ".py",
   "mimetype": "text/x-python",
   "name": "python",
   "nbconvert_exporter": "python",
   "pygments_lexer": "ipython3",
   "version": "3.5.2"
  }
 },
 "nbformat": 4,
 "nbformat_minor": 1
}
